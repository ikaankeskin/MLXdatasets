{
 "cells": [
  {
   "cell_type": "code",
   "execution_count": 2,
   "metadata": {},
   "outputs": [
    {
     "ename": "AttributeError",
     "evalue": "module 'pyarrow.parquet' has no attribute 'Table'",
     "output_type": "error",
     "traceback": [
      "\u001b[1;31m---------------------------------------------------------------------------\u001b[0m",
      "\u001b[1;31mAttributeError\u001b[0m                            Traceback (most recent call last)",
      "\u001b[1;32mc:\\Users\\ikaan\\AppData\\Local\\KK Code\\MLXdatasets\\Iris Species\\iris.ipynb Cell 1\u001b[0m line \u001b[0;36m1\n\u001b[0;32m     <a href='vscode-notebook-cell:/c%3A/Users/ikaan/AppData/Local/KK%20Code/MLXdatasets/Iris%20Species/iris.ipynb#W0sZmlsZQ%3D%3D?line=12'>13</a>\u001b[0m df \u001b[39m=\u001b[39m pd\u001b[39m.\u001b[39mread_csv(\u001b[39m'\u001b[39m\u001b[39miris.csv\u001b[39m\u001b[39m'\u001b[39m)\n\u001b[0;32m     <a href='vscode-notebook-cell:/c%3A/Users/ikaan/AppData/Local/KK%20Code/MLXdatasets/Iris%20Species/iris.ipynb#W0sZmlsZQ%3D%3D?line=14'>15</a>\u001b[0m \u001b[39m# Write to parquet\u001b[39;00m\n\u001b[1;32m---> <a href='vscode-notebook-cell:/c%3A/Users/ikaan/AppData/Local/KK%20Code/MLXdatasets/Iris%20Species/iris.ipynb#W0sZmlsZQ%3D%3D?line=15'>16</a>\u001b[0m table \u001b[39m=\u001b[39m pq\u001b[39m.\u001b[39;49mTable\u001b[39m.\u001b[39mfrom_pandas(df)\n",
      "\u001b[1;31mAttributeError\u001b[0m: module 'pyarrow.parquet' has no attribute 'Table'"
     ]
    }
   ],
   "source": [
    "#The columns in this dataset are:\n",
    "\n",
    "# Id\n",
    "# SepalLengthCm\n",
    "# SepalWidthCm\n",
    "# PetalLengthCm\n",
    "# PetalWidthCm\n",
    "# Species\n",
    "\n",
    "import pandas as pd\n",
    "\n",
    "\n",
    "df = pd.read_csv('iris.csv')\n",
    "\n",
    "# Write to parquet\n",
    "\n",
    "df.to_parquet('iris.parquet', engine='pyarrow')\n"
   ]
  }
 ],
 "metadata": {
  "kernelspec": {
   "display_name": "Python 3",
   "language": "python",
   "name": "python3"
  },
  "language_info": {
   "codemirror_mode": {
    "name": "ipython",
    "version": 3
   },
   "file_extension": ".py",
   "mimetype": "text/x-python",
   "name": "python",
   "nbconvert_exporter": "python",
   "pygments_lexer": "ipython3",
   "version": "3.11.4"
  }
 },
 "nbformat": 4,
 "nbformat_minor": 2
}
