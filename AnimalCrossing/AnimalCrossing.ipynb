{
 "cells": [
  {
   "cell_type": "code",
   "execution_count": 3,
   "metadata": {},
   "outputs": [],
   "source": [
    "import os\n",
    "import pandas as pd\n",
    "\n",
    "# List all CSV files in the folder\n",
    "folder_path = 'csv'\n",
    "csv_files = [f for f in os.listdir(folder_path) if f.endswith('.csv')]\n",
    "\n",
    "# Initialize an empty list to hold DataFrames\n",
    "df_list = []\n",
    "\n",
    "# Loop to read each CSV file, tag it with item type, and append to df_list\n",
    "for csv_file in csv_files:\n",
    "    item_type = csv_file.split('.')[0]  # Assuming the filename is the item type\n",
    "    file_path = os.path.join(folder_path, csv_file)\n",
    "    df = pd.read_csv(file_path)\n",
    "    df['item_type'] = item_type  # Add new column with item type\n",
    "    df_list.append(df)\n",
    "\n",
    "# Merge all the DataFrames\n",
    "merged_df = pd.concat(df_list, ignore_index=True)\n",
    "#change the column names\n",
    "merged_df['Buy'] = merged_df['Buy'].astype(str)\n",
    "# # Write to Parquet\n",
    "merged_df.to_parquet('animalcrossing.parquet', engine='pyarrow')\n"
   ]
  }
 ],
 "metadata": {
  "kernelspec": {
   "display_name": "Python 3",
   "language": "python",
   "name": "python3"
  },
  "language_info": {
   "codemirror_mode": {
    "name": "ipython",
    "version": 3
   },
   "file_extension": ".py",
   "mimetype": "text/x-python",
   "name": "python",
   "nbconvert_exporter": "python",
   "pygments_lexer": "ipython3",
   "version": "3.11.4"
  }
 },
 "nbformat": 4,
 "nbformat_minor": 2
}
