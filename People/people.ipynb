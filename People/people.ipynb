{
 "cells": [
  {
   "cell_type": "code",
   "execution_count": 2,
   "metadata": {},
   "outputs": [],
   "source": [
    "import pandas as pd\n",
    "\n",
    "#datasetfile: https://www.kaggle.com/datasets/imoore/age-dataset\n",
    "\n",
    "# Read the CSV file into a DataFrame: df\n",
    "df = pd.read_csv('AgeDataset-V1.csv')\n",
    "\n",
    "#save to parquet with gzip compression\n",
    "df.to_parquet('AgeDataset-V1.parquet.gzip', compression='gzip')\n",
    "\n",
    "#save to parquet but drop all columns where any value is null\n",
    "df.dropna(how='any').to_parquet('AgeDataset-V1-dropna.parquet.gzip', compression='gzip')\n",
    "\n",
    "#save to parquet but drop all columns where all values are null\n",
    "\n"
   ]
  }
 ],
 "metadata": {
  "kernelspec": {
   "display_name": "Python 3",
   "language": "python",
   "name": "python3"
  },
  "language_info": {
   "codemirror_mode": {
    "name": "ipython",
    "version": 3
   },
   "file_extension": ".py",
   "mimetype": "text/x-python",
   "name": "python",
   "nbconvert_exporter": "python",
   "pygments_lexer": "ipython3",
   "version": "3.11.4"
  }
 },
 "nbformat": 4,
 "nbformat_minor": 2
}
