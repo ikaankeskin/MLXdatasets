{
 "cells": [
  {
   "cell_type": "code",
   "execution_count": 1,
   "metadata": {},
   "outputs": [
    {
     "name": "stdout",
     "output_type": "stream",
     "text": [
      "Downloading split 'train' to 'C:\\Users\\ikaan\\fiftyone\\coco-2017\\train' if necessary\n",
      "Found annotations at 'C:\\Users\\ikaan\\fiftyone\\coco-2017\\raw\\instances_train2017.json'\n",
      "Sufficient images already downloaded\n",
      "Existing download of split 'train' is sufficient\n",
      "Loading 'coco-2017' split 'train'\n",
      " 100% |███████████████| 1000/1000 [5.2s elapsed, 0s remaining, 191.2 samples/s]      \n",
      "Dataset 'coco-2017-train-1000' created\n",
      "First few samples: Dataset:     coco-2017-train-1000\n",
      "Media type:  image\n",
      "Num samples: 3\n",
      "Sample fields:\n",
      "    id:           fiftyone.core.fields.ObjectIdField\n",
      "    filepath:     fiftyone.core.fields.StringField\n",
      "    tags:         fiftyone.core.fields.ListField(fiftyone.core.fields.StringField)\n",
      "    metadata:     fiftyone.core.fields.EmbeddedDocumentField(fiftyone.core.metadata.ImageMetadata)\n",
      "    ground_truth: fiftyone.core.fields.EmbeddedDocumentField(fiftyone.core.labels.Detections)\n",
      "View stages:\n",
      "    1. Take(size=3, seed=None)\n",
      "Number of samples: 1000\n",
      "Removing existing directory: ./exported_coco_dataset\n",
      " 100% |███████████████| 1000/1000 [8.0s elapsed, 0s remaining, 129.4 samples/s]      \n",
      "Annotations file does not exist at ./exported_coco_dataset\\annotations.json\n",
      "Image directory exists at ./exported_coco_dataset\\data\n",
      "Number of images: 1000\n"
     ]
    }
   ],
   "source": [
    "import fiftyone as fo\n",
    "import json\n",
    "import os\n",
    "\n",
    "# Kill any existing processes running on port 5151\n",
    "os.system(\"fuser -k 5151/tcp\")\n",
    "\"\"\" \n",
    "netstat -ano | findstr :5151\n",
    "taskkill /PID <Process-ID> /F\n",
    "\"\"\"\n",
    "\n",
    "dataset = fo.zoo.load_zoo_dataset(\n",
    "    \"coco-2017\",\n",
    "    split=\"train\",\n",
    "    max_samples=1000,\n",
    "    label_types=[\"detections\"],\n",
    "    classes=[\"cat\", \"dog\", \"car\", \"book\", \"chair\", \"person\"],\n",
    ")\n",
    "\n",
    "print(\"First few samples:\", dataset.take(3))\n",
    "\n",
    "num_samples = len(dataset)\n",
    "print(\"Number of samples:\", num_samples)\n",
    "if num_samples == 0:\n",
    "    print(\"The dataset is empty. Exiting...\")\n",
    "    exit()\n",
    "\n",
    "# Export dataset\n",
    "export_dir = \"./exported_coco_dataset\"\n",
    "labels_path = os.path.join(export_dir, \"annotations.json\")\n",
    "\n",
    "# Remove existing directory if it exists\n",
    "if os.path.exists(export_dir):\n",
    "    print(f\"Removing existing directory: {export_dir}\")\n",
    "    os.system(f\"rm -r {export_dir}\")\n",
    "\n",
    "# Perform export\n",
    "dataset.export(\n",
    "    export_dir=export_dir,\n",
    "    dataset_type=fo.types.COCODetectionDataset,\n",
    "    label_field=\"ground_truth\",  # Make sure this field exists in your dataset\n",
    ")\n",
    "\n",
    "# Check if annotations and images are exported\n",
    "if os.path.exists(labels_path):\n",
    "    print(f\"Annotations file exists at {labels_path}\")\n",
    "else:\n",
    "    print(f\"Annotations file does not exist at {labels_path}\")\n",
    "\n",
    "image_dir = os.path.join(export_dir, \"data\")\n",
    "if os.path.exists(image_dir):\n",
    "    print(f\"Image directory exists at {image_dir}\")\n",
    "    print(\"Number of images:\", len(os.listdir(image_dir)))\n",
    "else:\n",
    "    print(f\"Image directory does not exist at {image_dir}\")\n",
    "\n",
    "\n"
   ]
  },
  {
   "cell_type": "code",
   "execution_count": 2,
   "metadata": {},
   "outputs": [
    {
     "name": "stdout",
     "output_type": "stream",
     "text": [
      " 100% |███████████████| 1000/1000 [6.9s elapsed, 0s remaining, 147.1 samples/s]      \n"
     ]
    },
    {
     "data": {
      "text/html": [
       "\n",
       "        <iframe\n",
       "            width=\"100%\"\n",
       "            height=\"800\"\n",
       "            src=\"http://localhost:5151/?notebook=True&subscription=bf974ecd-2b8e-42ea-afd3-8b3dce7573cf\"\n",
       "            frameborder=\"0\"\n",
       "            allowfullscreen\n",
       "            \n",
       "        ></iframe>\n",
       "        "
      ],
      "text/plain": [
       "<IPython.lib.display.IFrame at 0x145034c4750>"
      ]
     },
     "metadata": {},
     "output_type": "display_data"
    }
   ],
   "source": [
    "# 3. Load into FiftyOne again\n",
    "imported_dataset = fo.Dataset.from_dir(\n",
    "    dataset_type=fo.types.COCODetectionDataset,\n",
    "    dataset_dir=export_dir,\n",
    ")\n",
    "\n",
    "session = fo.launch_app(imported_dataset, port=5151)"
   ]
  }
 ],
 "metadata": {
  "kernelspec": {
   "display_name": "Python 3",
   "language": "python",
   "name": "python3"
  },
  "language_info": {
   "codemirror_mode": {
    "name": "ipython",
    "version": 3
   },
   "file_extension": ".py",
   "mimetype": "text/x-python",
   "name": "python",
   "nbconvert_exporter": "python",
   "pygments_lexer": "ipython3",
   "version": "3.11.4"
  }
 },
 "nbformat": 4,
 "nbformat_minor": 2
}
