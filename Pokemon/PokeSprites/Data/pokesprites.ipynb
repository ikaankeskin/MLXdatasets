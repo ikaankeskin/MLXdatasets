{
 "cells": [
  {
   "cell_type": "code",
   "execution_count": 5,
   "metadata": {},
   "outputs": [],
   "source": [
    "import os\n",
    "import pandas as pd\n",
    "from PIL import Image\n",
    "import io\n",
    "\n",
    "# Initialize empty lists to hold the images and labels\n",
    "images = []\n",
    "labels = []\n",
    "\n",
    "# Path to folder containing images\n",
    "image_folder = '../Pokemon Dataset'\n",
    "\n",
    "# Loop through the files in the folder\n",
    "for filename in os.listdir(image_folder):\n",
    "    if filename.endswith(\".png\"):\n",
    "        # Read image and convert to bytes\n",
    "        img_path = os.path.join(image_folder, filename)\n",
    "        img = Image.open(img_path).convert(\"RGB\")  # Convert to RGB\n",
    "        img_byte_arr = io.BytesIO()\n",
    "        img.save(img_byte_arr, format='JPEG')  # Save as JPEG\n",
    "        img_byte_arr = img_byte_arr.getvalue()\n",
    "        \n",
    "        # Extract label from filename\n",
    "        label = filename.replace('.png', '')\n",
    "        \n",
    "        # Append to lists\n",
    "        images.append(img_byte_arr)\n",
    "        labels.append(label)\n",
    "\n",
    "# Create a DataFrame\n",
    "df = pd.DataFrame({\n",
    "    'label': labels,\n",
    "    'image': images\n",
    "})\n",
    "\n",
    "# Save to Parquet \n",
    "df.to_parquet('sprites.parquet', compression='gzip')\n"
   ]
  }
 ],
 "metadata": {
  "kernelspec": {
   "display_name": "Python 3",
   "language": "python",
   "name": "python3"
  },
  "language_info": {
   "codemirror_mode": {
    "name": "ipython",
    "version": 3
   },
   "file_extension": ".py",
   "mimetype": "text/x-python",
   "name": "python",
   "nbconvert_exporter": "python",
   "pygments_lexer": "ipython3",
   "version": "3.11.4"
  }
 },
 "nbformat": 4,
 "nbformat_minor": 2
}
