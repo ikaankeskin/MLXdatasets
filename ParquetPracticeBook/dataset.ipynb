{
 "cells": [
  {
   "cell_type": "code",
   "execution_count": 3,
   "metadata": {},
   "outputs": [],
   "source": [
    "import pandas as pd\n",
    "import requests\n",
    "import time\n",
    "import pyarrow as pa\n",
    "import pyarrow.parquet as pq"
   ]
  },
  {
   "cell_type": "code",
   "execution_count": null,
   "metadata": {},
   "outputs": [],
   "source": [
    "\n",
    "\n",
    "# Function to get the maximum item ID\n",
    "def get_max_item_id():\n",
    "    response = requests.get('https://hacker-news.firebaseio.com/v0/maxitem.json')\n",
    "    if response.status_code == 200:\n",
    "        return response.json()\n",
    "    else:\n",
    "        print(\"Failed to get max_item_id. Exiting.\")\n",
    "        return None\n",
    "\n",
    "# Initialize DataFrame to hold all the items\n",
    "df = pd.DataFrame()\n",
    "\n",
    "# Initialize max_item_id with the current maximum item id from the API\n",
    "max_item_id = get_max_item_id()\n",
    "current_id = max_item_id\n",
    "step_size = 1\n",
    "post_capacity = 1000\n",
    "\n",
    "print(f\"Starting to fetch items from item ID {max_item_id} until {max_item_id-post_capacity}.\")\n",
    "\n",
    "\n",
    "# Loop through item IDs from max_item_id to 1\n",
    "for item_id in range(current_id, (current_id-post_capacity), -1):\n",
    "    \n",
    "    print(f\"Fetching data for item ID {item_id}...\")\n",
    "    \n",
    "    # Fetch item data from API\n",
    "    item_url = f\"https://hacker-news.firebaseio.com/v0/item/{item_id}.json\"\n",
    "    response = requests.get(item_url)\n",
    "    \n",
    "    if response.status_code == 200:\n",
    "        item_data = response.json()\n",
    "        if item_data is not None:      \n",
    "            # Append to DataFrame\n",
    "            df = pd.concat([df, pd.DataFrame([item_data])], ignore_index=True)\n",
    "        else:\n",
    "            print(f\"No data for item ID {item_id}. Skipping.\")\n",
    "            current_id -= step_size\n",
    "    else:\n",
    "        print(f\"Failed to fetch data for item ID {item_id}\")\n",
    "    \n",
    "    \n",
    "    # Add sleep to respect rate limits if any\n",
    "    time.sleep(0.1)\n",
    "\n",
    "print(f\"Finished fetching items\")\n",
    "\n",
    "# Save DataFrame to Parquet format\n",
    "df.to_parquet('hacker_news_Mini.parquet')\n",
    "print(\"Saved data to hacker_news_2022.parquet.\")\n",
    "\n"
   ]
  },
  {
   "cell_type": "code",
   "execution_count": 10,
   "metadata": {},
   "outputs": [
    {
     "name": "stdout",
     "output_type": "stream",
     "text": [
      "Schema: <pyarrow._parquet.ParquetSchema object at 0x000001F3E69DBF40>\n",
      "required group field_id=-1 schema {\n",
      "  optional binary field_id=-1 by (String);\n",
      "  optional int64 field_id=-1 id;\n",
      "  optional double field_id=-1 parent;\n",
      "  optional binary field_id=-1 text (String);\n",
      "  optional int64 field_id=-1 time;\n",
      "  optional binary field_id=-1 type (String);\n",
      "  optional boolean field_id=-1 dead;\n",
      "  optional double field_id=-1 score;\n",
      "  optional double field_id=-1 descendants;\n",
      "  optional binary field_id=-1 title (String);\n",
      "  optional binary field_id=-1 url (String);\n",
      "  optional group field_id=-1 kids (List) {\n",
      "    repeated group field_id=-1 list {\n",
      "      optional int64 field_id=-1 element;\n",
      "    }\n",
      "  }\n",
      "  optional boolean field_id=-1 deleted;\n",
      "}\n",
      "\n",
      "Number of rows: 1000\n",
      "Number of row groups: 1\n"
     ]
    }
   ],
   "source": [
    "\n",
    "\n",
    "\n",
    "# Open Parquet file\n",
    "hacker_news_Mini_parquet_file = pq.ParquetFile('hacker_news_Mini.parquet')\n",
    "\n",
    "# Access file metadata\n",
    "file_metadata = hacker_news_Mini_parquet_file.metadata\n",
    "\n",
    "# Print some file-level details\n",
    "print(f\"Schema: {file_metadata.schema}\")\n",
    "print(f\"Number of rows: {file_metadata.num_rows}\")\n",
    "print(f\"Number of row groups: {file_metadata.num_row_groups}\")\n",
    "\n"
   ]
  },
  {
   "cell_type": "code",
   "execution_count": 13,
   "metadata": {},
   "outputs": [
    {
     "name": "stdout",
     "output_type": "stream",
     "text": [
      "Column name: id\n",
      "Column physical type: INT64\n"
     ]
    }
   ],
   "source": [
    "import pyarrow.parquet as pq\n",
    "\n",
    "# Open the Parquet file\n",
    "parquet_file = pq.ParquetFile('hacker_news_Mini.parquet')\n",
    "\n",
    "# Access schema to get metadata\n",
    "schema = parquet_file.schema\n",
    "\n",
    "# Get metadata for the first column\n",
    "column_metadata = schema[1]\n",
    "\n",
    "# Print some column-level details\n",
    "print(f\"Column name: {column_metadata.name}\")\n",
    "print(f\"Column physical type: {column_metadata.physical_type}\")\n",
    "\n"
   ]
  },
  {
   "cell_type": "code",
   "execution_count": 9,
   "metadata": {},
   "outputs": [
    {
     "name": "stdout",
     "output_type": "stream",
     "text": [
      "Number of columns: 13\n",
      "Number of rows: 1000\n"
     ]
    }
   ],
   "source": [
    "# Access metadata for a specific row group\n",
    "row_group_metadata = file_metadata.row_group(0)\n",
    "\n",
    "# Print some row group details\n",
    "print(f\"Number of columns: {row_group_metadata.num_columns}\")\n",
    "print(f\"Number of rows: {row_group_metadata.num_rows}\")"
   ]
  },
  {
   "cell_type": "code",
   "execution_count": 14,
   "metadata": {},
   "outputs": [
    {
     "data": {
      "text/html": [
       "<div>\n",
       "<style scoped>\n",
       "    .dataframe tbody tr th:only-of-type {\n",
       "        vertical-align: middle;\n",
       "    }\n",
       "\n",
       "    .dataframe tbody tr th {\n",
       "        vertical-align: top;\n",
       "    }\n",
       "\n",
       "    .dataframe thead th {\n",
       "        text-align: right;\n",
       "    }\n",
       "</style>\n",
       "<table border=\"1\" class=\"dataframe\">\n",
       "  <thead>\n",
       "    <tr style=\"text-align: right;\">\n",
       "      <th></th>\n",
       "      <th>by</th>\n",
       "      <th>id</th>\n",
       "    </tr>\n",
       "  </thead>\n",
       "  <tbody>\n",
       "    <tr>\n",
       "      <th>0</th>\n",
       "      <td>Kuinox</td>\n",
       "      <td>37856355</td>\n",
       "    </tr>\n",
       "    <tr>\n",
       "      <th>1</th>\n",
       "      <td>housecarpenter</td>\n",
       "      <td>37856354</td>\n",
       "    </tr>\n",
       "    <tr>\n",
       "      <th>2</th>\n",
       "      <td>goeiedaggoeie</td>\n",
       "      <td>37856353</td>\n",
       "    </tr>\n",
       "    <tr>\n",
       "      <th>3</th>\n",
       "      <td>vibhuti_k</td>\n",
       "      <td>37856352</td>\n",
       "    </tr>\n",
       "    <tr>\n",
       "      <th>4</th>\n",
       "      <td>nrclark</td>\n",
       "      <td>37856351</td>\n",
       "    </tr>\n",
       "    <tr>\n",
       "      <th>...</th>\n",
       "      <td>...</td>\n",
       "      <td>...</td>\n",
       "    </tr>\n",
       "    <tr>\n",
       "      <th>995</th>\n",
       "      <td>limbicsystem</td>\n",
       "      <td>37855360</td>\n",
       "    </tr>\n",
       "    <tr>\n",
       "      <th>996</th>\n",
       "      <td>medianwaterr</td>\n",
       "      <td>37855359</td>\n",
       "    </tr>\n",
       "    <tr>\n",
       "      <th>997</th>\n",
       "      <td>hardware2win</td>\n",
       "      <td>37855358</td>\n",
       "    </tr>\n",
       "    <tr>\n",
       "      <th>998</th>\n",
       "      <td>pjmlp</td>\n",
       "      <td>37855357</td>\n",
       "    </tr>\n",
       "    <tr>\n",
       "      <th>999</th>\n",
       "      <td>0-x</td>\n",
       "      <td>37855356</td>\n",
       "    </tr>\n",
       "  </tbody>\n",
       "</table>\n",
       "<p>1000 rows × 2 columns</p>\n",
       "</div>"
      ],
      "text/plain": [
       "                 by        id\n",
       "0            Kuinox  37856355\n",
       "1    housecarpenter  37856354\n",
       "2     goeiedaggoeie  37856353\n",
       "3         vibhuti_k  37856352\n",
       "4           nrclark  37856351\n",
       "..              ...       ...\n",
       "995    limbicsystem  37855360\n",
       "996    medianwaterr  37855359\n",
       "997    hardware2win  37855358\n",
       "998           pjmlp  37855357\n",
       "999             0-x  37855356\n",
       "\n",
       "[1000 rows x 2 columns]"
      ]
     },
     "execution_count": 14,
     "metadata": {},
     "output_type": "execute_result"
    }
   ],
   "source": [
    "# Read only the 'col1' column\n",
    "df_pruned = pd.read_parquet('hacker_news_Mini.parquet', engine='pyarrow', columns=['by','id'])\n",
    "df_pruned"
   ]
  },
  {
   "cell_type": "code",
   "execution_count": 16,
   "metadata": {},
   "outputs": [
    {
     "data": {
      "text/html": [
       "<div>\n",
       "<style scoped>\n",
       "    .dataframe tbody tr th:only-of-type {\n",
       "        vertical-align: middle;\n",
       "    }\n",
       "\n",
       "    .dataframe tbody tr th {\n",
       "        vertical-align: top;\n",
       "    }\n",
       "\n",
       "    .dataframe thead th {\n",
       "        text-align: right;\n",
       "    }\n",
       "</style>\n",
       "<table border=\"1\" class=\"dataframe\">\n",
       "  <thead>\n",
       "    <tr style=\"text-align: right;\">\n",
       "      <th></th>\n",
       "      <th>by</th>\n",
       "      <th>id</th>\n",
       "      <th>parent</th>\n",
       "      <th>text</th>\n",
       "      <th>time</th>\n",
       "      <th>type</th>\n",
       "      <th>dead</th>\n",
       "      <th>score</th>\n",
       "      <th>descendants</th>\n",
       "      <th>title</th>\n",
       "      <th>url</th>\n",
       "      <th>kids</th>\n",
       "      <th>deleted</th>\n",
       "    </tr>\n",
       "  </thead>\n",
       "  <tbody>\n",
       "    <tr>\n",
       "      <th>0</th>\n",
       "      <td>Kuinox</td>\n",
       "      <td>37856355</td>\n",
       "      <td>37856315.0</td>\n",
       "      <td>It&amp;#x27;s not feasibly impossible, it&amp;#x27;s v...</td>\n",
       "      <td>1697114357</td>\n",
       "      <td>comment</td>\n",
       "      <td>None</td>\n",
       "      <td>NaN</td>\n",
       "      <td>NaN</td>\n",
       "      <td>None</td>\n",
       "      <td>None</td>\n",
       "      <td>None</td>\n",
       "      <td>None</td>\n",
       "    </tr>\n",
       "    <tr>\n",
       "      <th>1</th>\n",
       "      <td>housecarpenter</td>\n",
       "      <td>37856354</td>\n",
       "      <td>37847466.0</td>\n",
       "      <td>I would interpret &amp;quot;accessible&amp;quot; here ...</td>\n",
       "      <td>1697114356</td>\n",
       "      <td>comment</td>\n",
       "      <td>None</td>\n",
       "      <td>NaN</td>\n",
       "      <td>NaN</td>\n",
       "      <td>None</td>\n",
       "      <td>None</td>\n",
       "      <td>None</td>\n",
       "      <td>None</td>\n",
       "    </tr>\n",
       "  </tbody>\n",
       "</table>\n",
       "</div>"
      ],
      "text/plain": [
       "               by        id      parent  \\\n",
       "0          Kuinox  37856355  37856315.0   \n",
       "1  housecarpenter  37856354  37847466.0   \n",
       "\n",
       "                                                text        time     type  \\\n",
       "0  It&#x27;s not feasibly impossible, it&#x27;s v...  1697114357  comment   \n",
       "1  I would interpret &quot;accessible&quot; here ...  1697114356  comment   \n",
       "\n",
       "   dead  score  descendants title   url  kids deleted  \n",
       "0  None    NaN          NaN  None  None  None    None  \n",
       "1  None    NaN          NaN  None  None  None    None  "
      ]
     },
     "execution_count": 16,
     "metadata": {},
     "output_type": "execute_result"
    }
   ],
   "source": [
    "# Using PyArrow to apply predicate pushdown\n",
    "table = pq.read_table('hacker_news_Mini.parquet', filters=[('id', '>', 37856353)])\n",
    "df_filtered = table.to_pandas()\n",
    "df_filtered"
   ]
  },
  {
   "cell_type": "code",
   "execution_count": 18,
   "metadata": {},
   "outputs": [],
   "source": [
    "import pyarrow as pa\n",
    "import pyarrow.parquet as pq\n",
    "import pandas as pd\n",
    "\n",
    "# Load the existing Parquet file into a DataFrame\n",
    "df = pd.read_parquet('hacker_news_Mini.parquet')\n",
    "\n",
    "# Write DataFrame to a partitioned Parquet dataset\n",
    "# Replace 'col1' with the column you want to partition by\n",
    "pq.write_to_dataset(pa.table(df), root_path='partitioned_dataset', partition_cols=['type'])\n"
   ]
  },
  {
   "cell_type": "code",
   "execution_count": 4,
   "metadata": {},
   "outputs": [],
   "source": [
    "#make df a dataframe\n",
    "df = pd.read_parquet('hacker_news_Mini.parquet')"
   ]
  },
  {
   "cell_type": "code",
   "execution_count": 12,
   "metadata": {},
   "outputs": [],
   "source": [
    "# Write DataFrame to Parquet with Gzip compression\n",
    "df.to_parquet('compressed/example_gzip.parquet', engine='pyarrow', compression='gzip')"
   ]
  },
  {
   "cell_type": "code",
   "execution_count": 11,
   "metadata": {},
   "outputs": [],
   "source": [
    "# Write DataFrame to Parquet with Snappy compression\n",
    "df.to_parquet('compressed/example_snappy.parquet', engine='pyarrow', compression='snappy')"
   ]
  },
  {
   "cell_type": "code",
   "execution_count": 13,
   "metadata": {},
   "outputs": [],
   "source": [
    "# Write DataFrame to Parquet with LZ4 compression\n",
    "df.to_parquet('compressed/example_lz4.parquet', engine='pyarrow', compression='lz4')"
   ]
  },
  {
   "cell_type": "code",
   "execution_count": 14,
   "metadata": {},
   "outputs": [
    {
     "name": "stdout",
     "output_type": "stream",
     "text": [
      "Size of Gzip compressed file:  173067\n",
      "Size of Snappy compressed file:  264011\n",
      "Size of LZ4 compressed file:  267742\n"
     ]
    }
   ],
   "source": [
    "#read the size of the parquet files in compressed folder\n",
    "import os\n",
    "print(\"Size of Gzip compressed file: \", os.path.getsize('compressed/example_gzip.parquet'))\n",
    "print(\"Size of Snappy compressed file: \", os.path.getsize('compressed/example_snappy.parquet'))\n",
    "print(\"Size of LZ4 compressed file: \", os.path.getsize('compressed/example_lz4.parquet'))\n"
   ]
  },
  {
   "cell_type": "code",
   "execution_count": 19,
   "metadata": {},
   "outputs": [
    {
     "name": "stdout",
     "output_type": "stream",
     "text": [
      "Time taken to read Gzip compressed file: 0.009032726287841797 seconds\n",
      "Time taken to read Snappy compressed file: 0.006046295166015625 seconds\n",
      "Time taken to read LZ4 compressed file: 0.004781007766723633 seconds\n",
      "Time taken to read uncompressed file: 0.0060079097747802734 seconds\n"
     ]
    },
    {
     "data": {
      "image/png": "[encoded data removed]",
      "text/plain": [
       "<Figure size 640x480 with 1 Axes>"
      ]
     },
     "metadata": {},
     "output_type": "display_data"
    },
    {
     "data": {
      "image/png": "[encoded data removed]",
      "text/plain": [
       "<Figure size 640x480 with 1 Axes>"
      ]
     },
     "metadata": {},
     "output_type": "display_data"
    }
   ],
   "source": [
    "#try to query the compressed parquet files and see the time it takes\n",
    "import time\n",
    "\n",
    "# Read the Gzip compressed file\n",
    "start = time.time()\n",
    "df_gzip = pd.read_parquet('compressed/example_gzip.parquet')\n",
    "end = time.time()\n",
    "gziptime = end-start\n",
    "print(f\"Time taken to read Gzip compressed file: {end-start} seconds\")\n",
    "\n",
    "# Read the Snappy compressed file\n",
    "start = time.time()\n",
    "df_snappy = pd.read_parquet('compressed/example_snappy.parquet')\n",
    "end = time.time()\n",
    "snappytime = end-start\n",
    "print(f\"Time taken to read Snappy compressed file: {end-start} seconds\")\n",
    "\n",
    "# Read the LZ4 compressed file\n",
    "start = time.time()\n",
    "df_lz4 = pd.read_parquet('compressed/example_lz4.parquet')\n",
    "end = time.time()\n",
    "lz4time = end-start\n",
    "print(f\"Time taken to read LZ4 compressed file: {end-start} seconds\")\n",
    "\n",
    "# Read the uncompressed file\n",
    "start = time.time()\n",
    "df = pd.read_parquet('hacker_news_Mini.parquet')\n",
    "end = time.time()\n",
    "uncompressedtime = end-start\n",
    "print(f\"Time taken to read uncompressed file: {end-start} seconds\")\n",
    "\n",
    "# compare the time it takes to read the compressed and uncompressed files and make a plot\n",
    "import matplotlib.pyplot as plt\n",
    "\n",
    "# Create a list of compression ratios\n",
    "\n",
    "compression_ratios = [os.path.getsize('hacker_news_Mini.parquet')/os.path.getsize('compressed/example_gzip.parquet'),\n",
    "                        os.path.getsize('hacker_news_Mini.parquet')/os.path.getsize('compressed/example_snappy.parquet'),\n",
    "                        os.path.getsize('hacker_news_Mini.parquet')/os.path.getsize('compressed/example_lz4.parquet')]\n",
    "compression_ratios\n",
    "\n",
    "# Create a list of decompression times\n",
    "\n",
    "decompression_times = [gziptime, snappytime, lz4time]\n",
    "decompression_times\n",
    "\n",
    "# Create a list of read times\n",
    "\n",
    "read_times = [uncompressedtime, uncompressedtime, uncompressedtime]\n",
    "read_times\n",
    "\n",
    "# Create a list of compression types\n",
    "\n",
    "compression_types = ['Gzip', 'Snappy', 'LZ4']\n",
    "compression_types\n",
    "\n",
    "# Create a DataFrame from compression_ratios, decompression_times, read_times, and compression_types\n",
    "df = pd.DataFrame({'compression_ratio': compression_ratios, 'decompression_time': decompression_times, 'read_time': read_times, 'compression_type': compression_types})\n",
    "df\n",
    "\n",
    "# Plot the DataFrame as a bar chart\n",
    "df.plot(x='compression_type', y=['compression_ratio'], kind='bar')\n",
    "plt.show()\n",
    "\n",
    "df.plot(x='compression_type', y=['decompression_time', 'read_time'], kind='bar')\n",
    "\n",
    "plt.show()"
   ]
  },
  {
   "cell_type": "code",
   "execution_count": null,
   "metadata": {},
   "outputs": [],
   "source": []
  }
 ],
 "metadata": {
  "kernelspec": {
   "display_name": "Python 3",
   "language": "python",
   "name": "python3"
  },
  "language_info": {
   "codemirror_mode": {
    "name": "ipython",
    "version": 3
   },
   "file_extension": ".py",
   "mimetype": "text/x-python",
   "name": "python",
   "nbconvert_exporter": "python",
   "pygments_lexer": "ipython3",
   "version": "3.11.4"
  }
 },
 "nbformat": 4,
 "nbformat_minor": 2
}
